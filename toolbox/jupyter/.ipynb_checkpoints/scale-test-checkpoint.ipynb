{
 "cells": [
  {
   "cell_type": "code",
   "execution_count": 5,
   "id": "39f00978-1b88-4fe9-a0be-9b9fa22c76c7",
   "metadata": {},
   "outputs": [
    {
     "name": "stdout",
     "output_type": "stream",
     "text": [
      "446.97575\n",
      "272.111\n",
      "274.0 679.0\n",
      "224.0 394.0\n",
      "429.0 260.0\n"
     ]
    },
    {
     "data": {
      "image/png": "[encoded data removed]",
      "text/plain": [
       "<Figure size 432x288 with 1 Axes>"
      ]
     },
     "metadata": {
      "needs_background": "light"
     },
     "output_type": "display_data"
    }
   ],
   "source": [
    "import csv\n",
    "import numpy as np\n",
    "from statistics import median\n",
    "import matplotlib.pyplot as plt\n",
    "\n",
    "def get_csv_data(path):\n",
    "    duration = []\n",
    "    copy_speed = []\n",
    "    with open(path, \"r\") as csvfile:\n",
    "        csv_obj = csv.reader(csvfile)\n",
    "        csv_list = list(csv_obj)\n",
    "        for row in csv_list[1:len(csv_list) - 2]:\n",
    "            duration.append(float(row[2]))\n",
    "            copy_speed.append(float(row[3]))\n",
    "    return [duration, copy_speed]\n",
    "\n",
    "path_rhel = \"/home/guoqingli/work/jupyter/scale-test/rhel82_4000vms_118nodes_deployments.csv\"\n",
    "path_win = \"/home/guoqingli/work/jupyter/scale-test/win10_1000vms_118nodes_deployments.csv\"\n",
    "rhel_data = get_csv_data(path_rhel)\n",
    "win_data = get_csv_data(path_win)\n",
    "# print(rehl_data)\n",
    "                             \n",
    "def time_series_plot(ydata, labels, title, xlabel, ylabel, xdata=None):\n",
    "    if xdata is None:\n",
    "        for i in range(len(ydata)):\n",
    "            plt.plot(ydata[i], label=labels[i])\n",
    "        plt.xticks([])\n",
    "    else:\n",
    "        for i in range(len(ydata)):\n",
    "            plt.plot(xdata, ydata[i], label=labels[i])\n",
    "        plt.grid()\n",
    "    plt.xlabel(xlabel)\n",
    "    # plt.xticks(np.arange(min(xdata),max(xdata), 200))\n",
    "    plt.ylabel(ylabel)\n",
    "    plt.title(title)\n",
    "    plt.legend(loc='upper center', bbox_to_anchor=(0.5, -0.17),fancybox=True, shadow=True, ncol=len(ydata))\n",
    "    plt.ylim(bottom=0)\n",
    "    plt.tight_layout()\n",
    "    # plt.savefig('./plots/'+ title + '.png')\n",
    "    plt.show()\n",
    "\n",
    "def box_plot(data, title, xlabel, labels):\n",
    "    fig, ax = plt.subplots()\n",
    "    colors = ['#D2B4DE', '#F7DC6F']\n",
    "    flierprops = dict(marker='o', markerfacecolor='r', markersize=2, linestyle='none', markeredgecolor='g')\n",
    "    bp = ax.boxplot(data, labels=labels, patch_artist = True, flierprops=flierprops, vert = 0, widths = 0.4, meanline=True, showmeans=True, showcaps=True, showfliers=True)\n",
    "    for patch, color in zip(bp['boxes'], colors): patch.set_facecolor(color)\n",
    "    \n",
    "    for median in bp['medians']:\n",
    "        median.set(color ='red', linewidth = 1)\n",
    "    \n",
    "    for median in bp['means']:\n",
    "        median.set(color ='blue', linewidth = 1)\n",
    "    \n",
    "    ax.set_title(title)\n",
    "    ax.set_xlabel(xlabel)\n",
    "    ax.grid(axis=\"x\")\n",
    "    plt.savefig('/home/guoqingli/work/jupyter/scale-plot/box.png')\n",
    "    #plt.show()\n",
    "\n",
    "# rehl_data[0].sort()\n",
    "#print(rehl_data[0])\n",
    "\n",
    "box_plot([rhel_data[0],win_data[0]], labels=['rhel', 'windows'], title=\"Importing Disk Image to PVC\", xlabel=\"seconds\")\n",
    "print(sum(sorted(rhel_data[0]))/ len(rhel_data[0]))\n",
    "print(sum(sorted(win_data[0]))/ len(win_data[0]))\n",
    "print(min(rhel_data[0]), max(rhel_data[0]))\n",
    "print(min(win_data[0]), max(win_data[0]))\n",
    "print(median(rhel_data[0]), median(win_data[0]))\n"
   ]
  },
  {
   "cell_type": "code",
   "execution_count": null,
   "id": "5b38efb9-cb79-4fab-90d6-8b609611a166",
   "metadata": {},
   "outputs": [],
   "source": []
  },
  {
   "cell_type": "code",
   "execution_count": null,
   "id": "de9002b2-dae4-4faf-8072-a2c2e7f35d21",
   "metadata": {},
   "outputs": [],
   "source": []
  }
 ],
 "metadata": {
  "kernelspec": {
   "display_name": "Python 3 (ipykernel)",
   "language": "python",
   "name": "python3"
  },
  "language_info": {
   "codemirror_mode": {
    "name": "ipython",
    "version": 3
   },
   "file_extension": ".py",
   "mimetype": "text/x-python",
   "name": "python",
   "nbconvert_exporter": "python",
   "pygments_lexer": "ipython3",
   "version": "3.10.5"
  }
 },
 "nbformat": 4,
 "nbformat_minor": 5
}
